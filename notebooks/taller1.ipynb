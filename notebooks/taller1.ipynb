{
 "cells": [
  {
   "cell_type": "markdown",
   "source": [
    "# Importación de las librerías requeridas"
   ],
   "metadata": {
    "collapsed": false
   },
   "id": "321006ee234c8cd0"
  },
  {
   "cell_type": "code",
   "execution_count": 3,
   "id": "initial_id",
   "metadata": {
    "collapsed": true,
    "ExecuteTime": {
     "end_time": "2024-05-07T01:46:43.093423Z",
     "start_time": "2024-05-07T01:46:43.078314Z"
    }
   },
   "outputs": [],
   "source": [
    "import numpy as np\n",
    "import pandas as pd\n",
    "import matplotlib.pyplot as plt\n",
    "import yfinance as yf # Yahoo Finance"
   ]
  },
  {
   "cell_type": "markdown",
   "source": [
    "### Descarga de datos"
   ],
   "metadata": {
    "collapsed": false
   },
   "id": "4ada7812c1ded606"
  },
  {
   "cell_type": "code",
   "outputs": [
    {
     "name": "stderr",
     "output_type": "stream",
     "text": [
      "[*********************100%%**********************]  1 of 1 completed\n"
     ]
    },
    {
     "data": {
      "text/plain": "                   Open         High          Low        Close    Adj Close  \\\nDate                                                                          \n2022-01-03  4063.580078  4103.750000  4027.485840  4063.580078  4063.580078   \n2022-01-04  4063.080078  4086.080078  4024.076660  4063.080078  4063.080078   \n2022-01-05  4078.550049  4078.830078  4026.580078  4078.550049  4078.550049   \n2022-01-06  4026.919922  4053.250000  4023.840088  4026.919922  4026.919922   \n2022-01-07  4030.919922  4048.090088  4025.870117  4030.919922  4030.919922   \n...                 ...          ...          ...          ...          ...   \n2024-04-30  3907.260010  3907.260010  3855.989990  3907.260010  3907.260010   \n2024-05-01  3907.750000  3914.209961  3898.030029  3907.750000  3907.750000   \n2024-05-02  3912.250000  3912.250000  3886.000000  3912.250000  3912.250000   \n2024-05-03  3895.750000  3908.350098  3862.500000  3895.750000  3895.750000   \n2024-05-06  3890.459961  3890.459961  3890.459961  3890.459961  3890.459961   \n\n            Volume  \nDate                \n2022-01-03       0  \n2022-01-04       0  \n2022-01-05       0  \n2022-01-06       0  \n2022-01-07       0  \n...            ...  \n2024-04-30       0  \n2024-05-01       0  \n2024-05-02       0  \n2024-05-03       0  \n2024-05-06       0  \n\n[611 rows x 6 columns]",
      "text/html": "<div>\n<style scoped>\n    .dataframe tbody tr th:only-of-type {\n        vertical-align: middle;\n    }\n\n    .dataframe tbody tr th {\n        vertical-align: top;\n    }\n\n    .dataframe thead th {\n        text-align: right;\n    }\n</style>\n<table border=\"1\" class=\"dataframe\">\n  <thead>\n    <tr style=\"text-align: right;\">\n      <th></th>\n      <th>Open</th>\n      <th>High</th>\n      <th>Low</th>\n      <th>Close</th>\n      <th>Adj Close</th>\n      <th>Volume</th>\n    </tr>\n    <tr>\n      <th>Date</th>\n      <th></th>\n      <th></th>\n      <th></th>\n      <th></th>\n      <th></th>\n      <th></th>\n    </tr>\n  </thead>\n  <tbody>\n    <tr>\n      <th>2022-01-03</th>\n      <td>4063.580078</td>\n      <td>4103.750000</td>\n      <td>4027.485840</td>\n      <td>4063.580078</td>\n      <td>4063.580078</td>\n      <td>0</td>\n    </tr>\n    <tr>\n      <th>2022-01-04</th>\n      <td>4063.080078</td>\n      <td>4086.080078</td>\n      <td>4024.076660</td>\n      <td>4063.080078</td>\n      <td>4063.080078</td>\n      <td>0</td>\n    </tr>\n    <tr>\n      <th>2022-01-05</th>\n      <td>4078.550049</td>\n      <td>4078.830078</td>\n      <td>4026.580078</td>\n      <td>4078.550049</td>\n      <td>4078.550049</td>\n      <td>0</td>\n    </tr>\n    <tr>\n      <th>2022-01-06</th>\n      <td>4026.919922</td>\n      <td>4053.250000</td>\n      <td>4023.840088</td>\n      <td>4026.919922</td>\n      <td>4026.919922</td>\n      <td>0</td>\n    </tr>\n    <tr>\n      <th>2022-01-07</th>\n      <td>4030.919922</td>\n      <td>4048.090088</td>\n      <td>4025.870117</td>\n      <td>4030.919922</td>\n      <td>4030.919922</td>\n      <td>0</td>\n    </tr>\n    <tr>\n      <th>...</th>\n      <td>...</td>\n      <td>...</td>\n      <td>...</td>\n      <td>...</td>\n      <td>...</td>\n      <td>...</td>\n    </tr>\n    <tr>\n      <th>2024-04-30</th>\n      <td>3907.260010</td>\n      <td>3907.260010</td>\n      <td>3855.989990</td>\n      <td>3907.260010</td>\n      <td>3907.260010</td>\n      <td>0</td>\n    </tr>\n    <tr>\n      <th>2024-05-01</th>\n      <td>3907.750000</td>\n      <td>3914.209961</td>\n      <td>3898.030029</td>\n      <td>3907.750000</td>\n      <td>3907.750000</td>\n      <td>0</td>\n    </tr>\n    <tr>\n      <th>2024-05-02</th>\n      <td>3912.250000</td>\n      <td>3912.250000</td>\n      <td>3886.000000</td>\n      <td>3912.250000</td>\n      <td>3912.250000</td>\n      <td>0</td>\n    </tr>\n    <tr>\n      <th>2024-05-03</th>\n      <td>3895.750000</td>\n      <td>3908.350098</td>\n      <td>3862.500000</td>\n      <td>3895.750000</td>\n      <td>3895.750000</td>\n      <td>0</td>\n    </tr>\n    <tr>\n      <th>2024-05-06</th>\n      <td>3890.459961</td>\n      <td>3890.459961</td>\n      <td>3890.459961</td>\n      <td>3890.459961</td>\n      <td>3890.459961</td>\n      <td>0</td>\n    </tr>\n  </tbody>\n</table>\n<p>611 rows × 6 columns</p>\n</div>"
     },
     "execution_count": 10,
     "metadata": {},
     "output_type": "execute_result"
    }
   ],
   "source": [
    "data = yf.download('COP=X', start='2022-01-01')\n",
    "data"
   ],
   "metadata": {
    "collapsed": false,
    "ExecuteTime": {
     "end_time": "2024-05-07T01:58:20.909951Z",
     "start_time": "2024-05-07T01:58:20.629163Z"
    }
   },
   "id": "2c1feb95dad1796",
   "execution_count": 10
  },
  {
   "cell_type": "code",
   "outputs": [
    {
     "data": {
      "text/plain": "                   Open         High          Low        Close    Adj Close  \\\nDate                                                                          \n2024-04-23  3909.850098  3921.729980  3898.610107  3909.850098  3909.850098   \n2024-04-24  3903.199951  3938.659912  3903.199951  3903.199951  3903.199951   \n2024-04-25  3937.500000  3967.629883  3935.520020  3937.500000  3937.500000   \n2024-04-26  3956.010010  3956.020020  3930.189941  3956.010010  3956.010010   \n2024-04-29  3963.489990  3963.489990  3879.850098  3963.489990  3963.489990   \n2024-04-30  3907.260010  3907.260010  3855.989990  3907.260010  3907.260010   \n2024-05-01  3907.750000  3914.209961  3898.030029  3907.750000  3907.750000   \n2024-05-02  3912.250000  3912.250000  3886.000000  3912.250000  3912.250000   \n2024-05-03  3895.750000  3908.350098  3862.500000  3895.750000  3895.750000   \n2024-05-06  3890.459961  3890.459961  3890.459961  3890.459961  3890.459961   \n\n            Volume  \nDate                \n2024-04-23       0  \n2024-04-24       0  \n2024-04-25       0  \n2024-04-26       0  \n2024-04-29       0  \n2024-04-30       0  \n2024-05-01       0  \n2024-05-02       0  \n2024-05-03       0  \n2024-05-06       0  ",
      "text/html": "<div>\n<style scoped>\n    .dataframe tbody tr th:only-of-type {\n        vertical-align: middle;\n    }\n\n    .dataframe tbody tr th {\n        vertical-align: top;\n    }\n\n    .dataframe thead th {\n        text-align: right;\n    }\n</style>\n<table border=\"1\" class=\"dataframe\">\n  <thead>\n    <tr style=\"text-align: right;\">\n      <th></th>\n      <th>Open</th>\n      <th>High</th>\n      <th>Low</th>\n      <th>Close</th>\n      <th>Adj Close</th>\n      <th>Volume</th>\n    </tr>\n    <tr>\n      <th>Date</th>\n      <th></th>\n      <th></th>\n      <th></th>\n      <th></th>\n      <th></th>\n      <th></th>\n    </tr>\n  </thead>\n  <tbody>\n    <tr>\n      <th>2024-04-23</th>\n      <td>3909.850098</td>\n      <td>3921.729980</td>\n      <td>3898.610107</td>\n      <td>3909.850098</td>\n      <td>3909.850098</td>\n      <td>0</td>\n    </tr>\n    <tr>\n      <th>2024-04-24</th>\n      <td>3903.199951</td>\n      <td>3938.659912</td>\n      <td>3903.199951</td>\n      <td>3903.199951</td>\n      <td>3903.199951</td>\n      <td>0</td>\n    </tr>\n    <tr>\n      <th>2024-04-25</th>\n      <td>3937.500000</td>\n      <td>3967.629883</td>\n      <td>3935.520020</td>\n      <td>3937.500000</td>\n      <td>3937.500000</td>\n      <td>0</td>\n    </tr>\n    <tr>\n      <th>2024-04-26</th>\n      <td>3956.010010</td>\n      <td>3956.020020</td>\n      <td>3930.189941</td>\n      <td>3956.010010</td>\n      <td>3956.010010</td>\n      <td>0</td>\n    </tr>\n    <tr>\n      <th>2024-04-29</th>\n      <td>3963.489990</td>\n      <td>3963.489990</td>\n      <td>3879.850098</td>\n      <td>3963.489990</td>\n      <td>3963.489990</td>\n      <td>0</td>\n    </tr>\n    <tr>\n      <th>2024-04-30</th>\n      <td>3907.260010</td>\n      <td>3907.260010</td>\n      <td>3855.989990</td>\n      <td>3907.260010</td>\n      <td>3907.260010</td>\n      <td>0</td>\n    </tr>\n    <tr>\n      <th>2024-05-01</th>\n      <td>3907.750000</td>\n      <td>3914.209961</td>\n      <td>3898.030029</td>\n      <td>3907.750000</td>\n      <td>3907.750000</td>\n      <td>0</td>\n    </tr>\n    <tr>\n      <th>2024-05-02</th>\n      <td>3912.250000</td>\n      <td>3912.250000</td>\n      <td>3886.000000</td>\n      <td>3912.250000</td>\n      <td>3912.250000</td>\n      <td>0</td>\n    </tr>\n    <tr>\n      <th>2024-05-03</th>\n      <td>3895.750000</td>\n      <td>3908.350098</td>\n      <td>3862.500000</td>\n      <td>3895.750000</td>\n      <td>3895.750000</td>\n      <td>0</td>\n    </tr>\n    <tr>\n      <th>2024-05-06</th>\n      <td>3890.459961</td>\n      <td>3890.459961</td>\n      <td>3890.459961</td>\n      <td>3890.459961</td>\n      <td>3890.459961</td>\n      <td>0</td>\n    </tr>\n  </tbody>\n</table>\n</div>"
     },
     "execution_count": 25,
     "metadata": {},
     "output_type": "execute_result"
    }
   ],
   "source": [
    "data.tail(10)"
   ],
   "metadata": {
    "collapsed": false,
    "ExecuteTime": {
     "end_time": "2024-05-07T02:19:13.767733Z",
     "start_time": "2024-05-07T02:19:13.757414Z"
    }
   },
   "id": "184b25a94014bb7a",
   "execution_count": 25
  },
  {
   "cell_type": "code",
   "outputs": [
    {
     "data": {
      "text/plain": "Date\n2022-01-03    4063.580078\n2022-01-04    4063.080078\n2022-01-05    4078.550049\n2022-01-06    4026.919922\n2022-01-07    4030.919922\n                 ...     \n2024-04-30    3907.260010\n2024-05-01    3907.750000\n2024-05-02    3912.250000\n2024-05-03    3895.750000\n2024-05-06    3890.459961\nName: Close, Length: 611, dtype: float64"
     },
     "execution_count": 17,
     "metadata": {},
     "output_type": "execute_result"
    }
   ],
   "source": [
    "data.Close"
   ],
   "metadata": {
    "collapsed": false,
    "ExecuteTime": {
     "end_time": "2024-05-07T02:01:24.711139Z",
     "start_time": "2024-05-07T02:01:24.696581Z"
    }
   },
   "id": "fc2e8a228803b5ed",
   "execution_count": 17
  },
  {
   "cell_type": "code",
   "outputs": [],
   "source": [],
   "metadata": {
    "collapsed": false
   },
   "id": "48ff6a5830b4ced8"
  }
 ],
 "metadata": {
  "kernelspec": {
   "display_name": "Python 3",
   "language": "python",
   "name": "python3"
  },
  "language_info": {
   "codemirror_mode": {
    "name": "ipython",
    "version": 2
   },
   "file_extension": ".py",
   "mimetype": "text/x-python",
   "name": "python",
   "nbconvert_exporter": "python",
   "pygments_lexer": "ipython2",
   "version": "2.7.6"
  }
 },
 "nbformat": 4,
 "nbformat_minor": 5
}
