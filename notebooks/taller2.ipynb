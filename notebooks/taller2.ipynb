{
 "cells": [
  {
   "cell_type": "code",
   "execution_count": null,
   "id": "initial_id",
   "metadata": {
    "collapsed": true
   },
   "outputs": [],
   "source": [
    "import numpy as np\n",
    "import pandas as pd\n",
    "import matplotlib.pyplot as plt"
   ]
  },
  {
   "cell_type": "markdown",
   "source": [
    "## Importar data excel\n"
   ],
   "metadata": {
    "collapsed": false
   },
   "id": "39c8674c29ac4d97"
  },
  {
   "cell_type": "code",
   "outputs": [
    {
     "data": {
      "text/plain": "      Ubigeo                Distrito    Provincia Departamento  Poblacion  \\\n0      10101             Chachapoyas  Chachapoyas     Amazonas      29171   \n1      10102                Asuncion  Chachapoyas     Amazonas        288   \n2      10103                  Balsas  Chachapoyas     Amazonas       1644   \n3      10104                   Cheto  Chachapoyas     Amazonas        591   \n4      10105               Chiliquin  Chachapoyas     Amazonas        687   \n...      ...                     ...          ...          ...        ...   \n1869  250302                 Irazola   Padre Abad      Ucayali      10830   \n1870  250303                Curimana   Padre Abad      Ucayali       8956   \n1871  250304                 Neshuya   Padre Abad      Ucayali       8445   \n1872  250305  Alexander von Humboldt   Padre Abad      Ucayali       6678   \n1873  250401                   Purus        Purus      Ucayali       4657   \n\n      Superficie Estrato       Y        X  \n0         153.78  Urbano -6.2294 -77.8714  \n1          25.71   Rural -6.0317 -77.7122  \n2         357.09   Rural -6.8375 -78.0214  \n3          56.97   Rural -6.2558 -77.7003  \n4         143.43   Rural -6.0778 -77.7392  \n...          ...     ...     ...      ...  \n1869      998.93  Urbano -8.8289 -75.2139  \n1870     2134.04   Rural -8.4353 -75.1597  \n1871      579.51   Rural -8.6392 -74.9644  \n1872      190.80   Rural -8.8264 -75.0522  \n1873    17847.76   Rural -9.7703 -70.7122  \n\n[1874 rows x 9 columns]",
      "text/html": "<div>\n<style scoped>\n    .dataframe tbody tr th:only-of-type {\n        vertical-align: middle;\n    }\n\n    .dataframe tbody tr th {\n        vertical-align: top;\n    }\n\n    .dataframe thead th {\n        text-align: right;\n    }\n</style>\n<table border=\"1\" class=\"dataframe\">\n  <thead>\n    <tr style=\"text-align: right;\">\n      <th></th>\n      <th>Ubigeo</th>\n      <th>Distrito</th>\n      <th>Provincia</th>\n      <th>Departamento</th>\n      <th>Poblacion</th>\n      <th>Superficie</th>\n      <th>Estrato</th>\n      <th>Y</th>\n      <th>X</th>\n    </tr>\n  </thead>\n  <tbody>\n    <tr>\n      <th>0</th>\n      <td>10101</td>\n      <td>Chachapoyas</td>\n      <td>Chachapoyas</td>\n      <td>Amazonas</td>\n      <td>29171</td>\n      <td>153.78</td>\n      <td>Urbano</td>\n      <td>-6.2294</td>\n      <td>-77.8714</td>\n    </tr>\n    <tr>\n      <th>1</th>\n      <td>10102</td>\n      <td>Asuncion</td>\n      <td>Chachapoyas</td>\n      <td>Amazonas</td>\n      <td>288</td>\n      <td>25.71</td>\n      <td>Rural</td>\n      <td>-6.0317</td>\n      <td>-77.7122</td>\n    </tr>\n    <tr>\n      <th>2</th>\n      <td>10103</td>\n      <td>Balsas</td>\n      <td>Chachapoyas</td>\n      <td>Amazonas</td>\n      <td>1644</td>\n      <td>357.09</td>\n      <td>Rural</td>\n      <td>-6.8375</td>\n      <td>-78.0214</td>\n    </tr>\n    <tr>\n      <th>3</th>\n      <td>10104</td>\n      <td>Cheto</td>\n      <td>Chachapoyas</td>\n      <td>Amazonas</td>\n      <td>591</td>\n      <td>56.97</td>\n      <td>Rural</td>\n      <td>-6.2558</td>\n      <td>-77.7003</td>\n    </tr>\n    <tr>\n      <th>4</th>\n      <td>10105</td>\n      <td>Chiliquin</td>\n      <td>Chachapoyas</td>\n      <td>Amazonas</td>\n      <td>687</td>\n      <td>143.43</td>\n      <td>Rural</td>\n      <td>-6.0778</td>\n      <td>-77.7392</td>\n    </tr>\n    <tr>\n      <th>...</th>\n      <td>...</td>\n      <td>...</td>\n      <td>...</td>\n      <td>...</td>\n      <td>...</td>\n      <td>...</td>\n      <td>...</td>\n      <td>...</td>\n      <td>...</td>\n    </tr>\n    <tr>\n      <th>1869</th>\n      <td>250302</td>\n      <td>Irazola</td>\n      <td>Padre Abad</td>\n      <td>Ucayali</td>\n      <td>10830</td>\n      <td>998.93</td>\n      <td>Urbano</td>\n      <td>-8.8289</td>\n      <td>-75.2139</td>\n    </tr>\n    <tr>\n      <th>1870</th>\n      <td>250303</td>\n      <td>Curimana</td>\n      <td>Padre Abad</td>\n      <td>Ucayali</td>\n      <td>8956</td>\n      <td>2134.04</td>\n      <td>Rural</td>\n      <td>-8.4353</td>\n      <td>-75.1597</td>\n    </tr>\n    <tr>\n      <th>1871</th>\n      <td>250304</td>\n      <td>Neshuya</td>\n      <td>Padre Abad</td>\n      <td>Ucayali</td>\n      <td>8445</td>\n      <td>579.51</td>\n      <td>Rural</td>\n      <td>-8.6392</td>\n      <td>-74.9644</td>\n    </tr>\n    <tr>\n      <th>1872</th>\n      <td>250305</td>\n      <td>Alexander von Humboldt</td>\n      <td>Padre Abad</td>\n      <td>Ucayali</td>\n      <td>6678</td>\n      <td>190.80</td>\n      <td>Rural</td>\n      <td>-8.8264</td>\n      <td>-75.0522</td>\n    </tr>\n    <tr>\n      <th>1873</th>\n      <td>250401</td>\n      <td>Purus</td>\n      <td>Purus</td>\n      <td>Ucayali</td>\n      <td>4657</td>\n      <td>17847.76</td>\n      <td>Rural</td>\n      <td>-9.7703</td>\n      <td>-70.7122</td>\n    </tr>\n  </tbody>\n</table>\n<p>1874 rows × 9 columns</p>\n</div>"
     },
     "execution_count": 24,
     "metadata": {},
     "output_type": "execute_result"
    }
   ],
   "source": [
    "df = pd.read_excel('../files/data/UbigeosPeru.xlsx', dtype={'Ubigeo':int})\n",
    "\n",
    "df"
   ],
   "metadata": {
    "collapsed": false,
    "ExecuteTime": {
     "end_time": "2024-05-07T02:49:19.960154Z",
     "start_time": "2024-05-07T02:49:19.804681Z"
    }
   },
   "id": "d4501325653b712f",
   "execution_count": 24
  },
  {
   "cell_type": "code",
   "outputs": [
    {
     "data": {
      "text/plain": "1874"
     },
     "execution_count": 18,
     "metadata": {},
     "output_type": "execute_result"
    }
   ],
   "source": [
    "len(df)"
   ],
   "metadata": {
    "collapsed": false,
    "ExecuteTime": {
     "end_time": "2024-05-07T02:43:45.741818Z",
     "start_time": "2024-05-07T02:43:45.735943Z"
    }
   },
   "id": "e4784f7cd9c1ac9",
   "execution_count": 18
  },
  {
   "cell_type": "code",
   "outputs": [
    {
     "data": {
      "text/plain": "Ubigeo            int64\nDistrito         object\nProvincia        object\nDepartamento     object\nPoblacion         int64\nSuperficie      float64\nEstrato          object\nY               float64\nX               float64\ndtype: object"
     },
     "execution_count": 20,
     "metadata": {},
     "output_type": "execute_result"
    }
   ],
   "source": [
    "df.dtypes"
   ],
   "metadata": {
    "collapsed": false,
    "ExecuteTime": {
     "end_time": "2024-05-07T02:44:27.146550Z",
     "start_time": "2024-05-07T02:44:27.131650Z"
    }
   },
   "id": "ecbd3ba5c51b5a59",
   "execution_count": 20
  },
  {
   "cell_type": "code",
   "outputs": [
    {
     "data": {
      "text/plain": "Index(['Ubigeo', 'Distrito', 'Provincia', 'Departamento', 'Poblacion',\n       'Superficie', 'Estrato', 'Y', 'X'],\n      dtype='object')"
     },
     "execution_count": 27,
     "metadata": {},
     "output_type": "execute_result"
    }
   ],
   "source": [
    "df.columns.tolist()"
   ],
   "metadata": {
    "collapsed": false,
    "ExecuteTime": {
     "end_time": "2024-05-07T02:50:45.263521Z",
     "start_time": "2024-05-07T02:50:45.252199Z"
    }
   },
   "id": "bc2d72f1ee1a502d",
   "execution_count": 27
  },
  {
   "cell_type": "code",
   "outputs": [
    {
     "name": "stdout",
     "output_type": "stream",
     "text": [
      "<class 'pandas.core.frame.DataFrame'>\n",
      "RangeIndex: 1874 entries, 0 to 1873\n",
      "Data columns (total 9 columns):\n",
      " #   Column        Non-Null Count  Dtype  \n",
      "---  ------        --------------  -----  \n",
      " 0   Ubigeo        1874 non-null   int64  \n",
      " 1   Distrito      1874 non-null   object \n",
      " 2   Provincia     1874 non-null   object \n",
      " 3   Departamento  1874 non-null   object \n",
      " 4   Poblacion     1874 non-null   int64  \n",
      " 5   Superficie    1874 non-null   float64\n",
      " 6   Estrato       1874 non-null   object \n",
      " 7   Y             1874 non-null   float64\n",
      " 8   X             1874 non-null   float64\n",
      "dtypes: float64(3), int64(2), object(4)\n",
      "memory usage: 131.9+ KB\n"
     ]
    }
   ],
   "source": [
    "df.info()"
   ],
   "metadata": {
    "collapsed": false,
    "ExecuteTime": {
     "end_time": "2024-05-07T02:51:46.963342Z",
     "start_time": "2024-05-07T02:51:46.932294Z"
    }
   },
   "id": "c6e0b60f169c279",
   "execution_count": 29
  },
  {
   "cell_type": "code",
   "outputs": [
    {
     "data": {
      "text/plain": "              Ubigeo     Poblacion    Superficie            Y            X\ncount    1874.000000  1.874000e+03   1874.000000  1874.000000  1874.000000\nmean   106811.441836  1.716231e+04    689.613751   -10.894582   -75.464763\nstd     67126.358611  5.483361e+04   1922.273572     3.583307     2.842531\nmin     10101.000000  1.740000e+02      1.990000   -18.229200   -81.306900\n25%     50328.250000  1.907250e+03     92.910000   -13.740775   -77.610000\n50%    100322.500000  4.538500e+03    208.010000   -11.731800   -75.928750\n75%    150805.750000  1.136975e+04    500.092500    -7.692625   -73.429800\nmax    250401.000000  1.156300e+06  24049.950000    -0.378300   -68.853900",
      "text/html": "<div>\n<style scoped>\n    .dataframe tbody tr th:only-of-type {\n        vertical-align: middle;\n    }\n\n    .dataframe tbody tr th {\n        vertical-align: top;\n    }\n\n    .dataframe thead th {\n        text-align: right;\n    }\n</style>\n<table border=\"1\" class=\"dataframe\">\n  <thead>\n    <tr style=\"text-align: right;\">\n      <th></th>\n      <th>Ubigeo</th>\n      <th>Poblacion</th>\n      <th>Superficie</th>\n      <th>Y</th>\n      <th>X</th>\n    </tr>\n  </thead>\n  <tbody>\n    <tr>\n      <th>count</th>\n      <td>1874.000000</td>\n      <td>1.874000e+03</td>\n      <td>1874.000000</td>\n      <td>1874.000000</td>\n      <td>1874.000000</td>\n    </tr>\n    <tr>\n      <th>mean</th>\n      <td>106811.441836</td>\n      <td>1.716231e+04</td>\n      <td>689.613751</td>\n      <td>-10.894582</td>\n      <td>-75.464763</td>\n    </tr>\n    <tr>\n      <th>std</th>\n      <td>67126.358611</td>\n      <td>5.483361e+04</td>\n      <td>1922.273572</td>\n      <td>3.583307</td>\n      <td>2.842531</td>\n    </tr>\n    <tr>\n      <th>min</th>\n      <td>10101.000000</td>\n      <td>1.740000e+02</td>\n      <td>1.990000</td>\n      <td>-18.229200</td>\n      <td>-81.306900</td>\n    </tr>\n    <tr>\n      <th>25%</th>\n      <td>50328.250000</td>\n      <td>1.907250e+03</td>\n      <td>92.910000</td>\n      <td>-13.740775</td>\n      <td>-77.610000</td>\n    </tr>\n    <tr>\n      <th>50%</th>\n      <td>100322.500000</td>\n      <td>4.538500e+03</td>\n      <td>208.010000</td>\n      <td>-11.731800</td>\n      <td>-75.928750</td>\n    </tr>\n    <tr>\n      <th>75%</th>\n      <td>150805.750000</td>\n      <td>1.136975e+04</td>\n      <td>500.092500</td>\n      <td>-7.692625</td>\n      <td>-73.429800</td>\n    </tr>\n    <tr>\n      <th>max</th>\n      <td>250401.000000</td>\n      <td>1.156300e+06</td>\n      <td>24049.950000</td>\n      <td>-0.378300</td>\n      <td>-68.853900</td>\n    </tr>\n  </tbody>\n</table>\n</div>"
     },
     "execution_count": 32,
     "metadata": {},
     "output_type": "execute_result"
    }
   ],
   "source": [
    "df.describe()"
   ],
   "metadata": {
    "collapsed": false,
    "ExecuteTime": {
     "end_time": "2024-05-07T02:54:29.571804Z",
     "start_time": "2024-05-07T02:54:29.540468Z"
    }
   },
   "id": "722eccf07e6e11a2",
   "execution_count": 32
  },
  {
   "cell_type": "code",
   "outputs": [
    {
     "data": {
      "text/plain": "               Ubigeo    Distrito Provincia Departamento     Poblacion  \\\ncount     1874.000000        1874      1874         1874  1.874000e+03   \nunique            NaN        1720       195           25           NaN   \ntop               NaN  Santa Rosa      Lima         Lima           NaN   \nfreq              NaN          10        43          171           NaN   \nmean    106811.441836         NaN       NaN          NaN  1.716231e+04   \nstd      67126.358611         NaN       NaN          NaN  5.483361e+04   \nmin      10101.000000         NaN       NaN          NaN  1.740000e+02   \n25%      50328.250000         NaN       NaN          NaN  1.907250e+03   \n50%     100322.500000         NaN       NaN          NaN  4.538500e+03   \n75%     150805.750000         NaN       NaN          NaN  1.136975e+04   \nmax     250401.000000         NaN       NaN          NaN  1.156300e+06   \n\n          Superficie Estrato            Y            X  \ncount    1874.000000    1874  1874.000000  1874.000000  \nunique           NaN       2          NaN          NaN  \ntop              NaN   Rural          NaN          NaN  \nfreq             NaN    1351          NaN          NaN  \nmean      689.613751     NaN   -10.894582   -75.464763  \nstd      1922.273572     NaN     3.583307     2.842531  \nmin         1.990000     NaN   -18.229200   -81.306900  \n25%        92.910000     NaN   -13.740775   -77.610000  \n50%       208.010000     NaN   -11.731800   -75.928750  \n75%       500.092500     NaN    -7.692625   -73.429800  \nmax     24049.950000     NaN    -0.378300   -68.853900  ",
      "text/html": "<div>\n<style scoped>\n    .dataframe tbody tr th:only-of-type {\n        vertical-align: middle;\n    }\n\n    .dataframe tbody tr th {\n        vertical-align: top;\n    }\n\n    .dataframe thead th {\n        text-align: right;\n    }\n</style>\n<table border=\"1\" class=\"dataframe\">\n  <thead>\n    <tr style=\"text-align: right;\">\n      <th></th>\n      <th>Ubigeo</th>\n      <th>Distrito</th>\n      <th>Provincia</th>\n      <th>Departamento</th>\n      <th>Poblacion</th>\n      <th>Superficie</th>\n      <th>Estrato</th>\n      <th>Y</th>\n      <th>X</th>\n    </tr>\n  </thead>\n  <tbody>\n    <tr>\n      <th>count</th>\n      <td>1874.000000</td>\n      <td>1874</td>\n      <td>1874</td>\n      <td>1874</td>\n      <td>1.874000e+03</td>\n      <td>1874.000000</td>\n      <td>1874</td>\n      <td>1874.000000</td>\n      <td>1874.000000</td>\n    </tr>\n    <tr>\n      <th>unique</th>\n      <td>NaN</td>\n      <td>1720</td>\n      <td>195</td>\n      <td>25</td>\n      <td>NaN</td>\n      <td>NaN</td>\n      <td>2</td>\n      <td>NaN</td>\n      <td>NaN</td>\n    </tr>\n    <tr>\n      <th>top</th>\n      <td>NaN</td>\n      <td>Santa Rosa</td>\n      <td>Lima</td>\n      <td>Lima</td>\n      <td>NaN</td>\n      <td>NaN</td>\n      <td>Rural</td>\n      <td>NaN</td>\n      <td>NaN</td>\n    </tr>\n    <tr>\n      <th>freq</th>\n      <td>NaN</td>\n      <td>10</td>\n      <td>43</td>\n      <td>171</td>\n      <td>NaN</td>\n      <td>NaN</td>\n      <td>1351</td>\n      <td>NaN</td>\n      <td>NaN</td>\n    </tr>\n    <tr>\n      <th>mean</th>\n      <td>106811.441836</td>\n      <td>NaN</td>\n      <td>NaN</td>\n      <td>NaN</td>\n      <td>1.716231e+04</td>\n      <td>689.613751</td>\n      <td>NaN</td>\n      <td>-10.894582</td>\n      <td>-75.464763</td>\n    </tr>\n    <tr>\n      <th>std</th>\n      <td>67126.358611</td>\n      <td>NaN</td>\n      <td>NaN</td>\n      <td>NaN</td>\n      <td>5.483361e+04</td>\n      <td>1922.273572</td>\n      <td>NaN</td>\n      <td>3.583307</td>\n      <td>2.842531</td>\n    </tr>\n    <tr>\n      <th>min</th>\n      <td>10101.000000</td>\n      <td>NaN</td>\n      <td>NaN</td>\n      <td>NaN</td>\n      <td>1.740000e+02</td>\n      <td>1.990000</td>\n      <td>NaN</td>\n      <td>-18.229200</td>\n      <td>-81.306900</td>\n    </tr>\n    <tr>\n      <th>25%</th>\n      <td>50328.250000</td>\n      <td>NaN</td>\n      <td>NaN</td>\n      <td>NaN</td>\n      <td>1.907250e+03</td>\n      <td>92.910000</td>\n      <td>NaN</td>\n      <td>-13.740775</td>\n      <td>-77.610000</td>\n    </tr>\n    <tr>\n      <th>50%</th>\n      <td>100322.500000</td>\n      <td>NaN</td>\n      <td>NaN</td>\n      <td>NaN</td>\n      <td>4.538500e+03</td>\n      <td>208.010000</td>\n      <td>NaN</td>\n      <td>-11.731800</td>\n      <td>-75.928750</td>\n    </tr>\n    <tr>\n      <th>75%</th>\n      <td>150805.750000</td>\n      <td>NaN</td>\n      <td>NaN</td>\n      <td>NaN</td>\n      <td>1.136975e+04</td>\n      <td>500.092500</td>\n      <td>NaN</td>\n      <td>-7.692625</td>\n      <td>-73.429800</td>\n    </tr>\n    <tr>\n      <th>max</th>\n      <td>250401.000000</td>\n      <td>NaN</td>\n      <td>NaN</td>\n      <td>NaN</td>\n      <td>1.156300e+06</td>\n      <td>24049.950000</td>\n      <td>NaN</td>\n      <td>-0.378300</td>\n      <td>-68.853900</td>\n    </tr>\n  </tbody>\n</table>\n</div>"
     },
     "execution_count": 30,
     "metadata": {},
     "output_type": "execute_result"
    }
   ],
   "source": [
    "df.describe(include='all')"
   ],
   "metadata": {
    "collapsed": false,
    "ExecuteTime": {
     "end_time": "2024-05-07T02:53:42.112210Z",
     "start_time": "2024-05-07T02:53:42.081782Z"
    }
   },
   "id": "bc1e3e161945545d",
   "execution_count": 30
  },
  {
   "cell_type": "code",
   "outputs": [],
   "source": [],
   "metadata": {
    "collapsed": false
   },
   "id": "16c1290d6e26431c"
  },
  {
   "cell_type": "code",
   "outputs": [
    {
     "data": {
      "text/plain": "      Ubigeo           Distrito Provincia Departamento  Poblacion  Superficie  \\\n1161  130103  Florencia de Mora  Trujillo  La Libertad      42978        1.99   \n\n     Estrato       Y        X  \n1161  Urbano -8.0808 -79.0236  ",
      "text/html": "<div>\n<style scoped>\n    .dataframe tbody tr th:only-of-type {\n        vertical-align: middle;\n    }\n\n    .dataframe tbody tr th {\n        vertical-align: top;\n    }\n\n    .dataframe thead th {\n        text-align: right;\n    }\n</style>\n<table border=\"1\" class=\"dataframe\">\n  <thead>\n    <tr style=\"text-align: right;\">\n      <th></th>\n      <th>Ubigeo</th>\n      <th>Distrito</th>\n      <th>Provincia</th>\n      <th>Departamento</th>\n      <th>Poblacion</th>\n      <th>Superficie</th>\n      <th>Estrato</th>\n      <th>Y</th>\n      <th>X</th>\n    </tr>\n  </thead>\n  <tbody>\n    <tr>\n      <th>1161</th>\n      <td>130103</td>\n      <td>Florencia de Mora</td>\n      <td>Trujillo</td>\n      <td>La Libertad</td>\n      <td>42978</td>\n      <td>1.99</td>\n      <td>Urbano</td>\n      <td>-8.0808</td>\n      <td>-79.0236</td>\n    </tr>\n  </tbody>\n</table>\n</div>"
     },
     "execution_count": 56,
     "metadata": {},
     "output_type": "execute_result"
    }
   ],
   "source": [
    "df_sorted = df.sort_values(\"Superficie\").head(3)\n",
    "df_sorted"
   ],
   "metadata": {
    "collapsed": false,
    "ExecuteTime": {
     "end_time": "2024-05-07T03:00:43.668742Z",
     "start_time": "2024-05-07T03:00:43.637382Z"
    }
   },
   "id": "d90652cb8457f4a8",
   "execution_count": 56
  },
  {
   "cell_type": "code",
   "outputs": [],
   "source": [],
   "metadata": {
    "collapsed": false
   },
   "id": "5fa0dced5d71311f"
  }
 ],
 "metadata": {
  "kernelspec": {
   "display_name": "Python 3",
   "language": "python",
   "name": "python3"
  },
  "language_info": {
   "codemirror_mode": {
    "name": "ipython",
    "version": 2
   },
   "file_extension": ".py",
   "mimetype": "text/x-python",
   "name": "python",
   "nbconvert_exporter": "python",
   "pygments_lexer": "ipython2",
   "version": "2.7.6"
  }
 },
 "nbformat": 4,
 "nbformat_minor": 5
}
